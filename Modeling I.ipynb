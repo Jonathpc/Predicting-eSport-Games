{
 "cells": [
  {
   "cell_type": "markdown",
   "id": "27f695c3",
   "metadata": {},
   "source": [
    "# Betting on Esports\n",
    "## Modeling I\n",
    "### Jonathan Pena\n",
    "### Capstone Notebook Part 2\n",
    "# Data Loading\n",
    "\n",
    "After the EDA is complete, we now have a clean data set that can be used to build our model. We will build our first model in this notebook, which will be logistic regression. Using logistic regression, you can estimate the probability of a true or false outcome, here it is a win or a loss. We are trying to determine if the red team won or lost the game. The first step is to import the libraries that we will be using."
   ]
  },
  {
   "cell_type": "code",
   "execution_count": 1,
   "id": "170a92c0",
   "metadata": {},
   "outputs": [],
   "source": [
    "# importing libraries\n",
    "import numpy as np\n",
    "import pandas as pd\n",
    "pd.set_option('display.max_columns', None)\n",
    "pd.set_option('display.max_rows',None)\n",
    "import matplotlib.pyplot as plt\n",
    "import seaborn as sns\n",
    "\n",
    "# Preprocessing and transformation\n",
    "from sklearn.model_selection import train_test_split\n",
    "from sklearn.preprocessing import StandardScaler\n",
    "\n",
    "# Importing models\n",
    "from sklearn.linear_model import LogisticRegression\n",
    "\n",
    "# Pipeline\n",
    "from sklearn.pipeline import Pipeline\n",
    "from sklearn.model_selection import cross_val_score\n",
    "from sklearn.model_selection import GridSearchCV\n",
    "\n",
    "# model evaluation\n",
    "from sklearn.metrics import plot_confusion_matrix, confusion_matrix\n",
    "from sklearn.metrics import classification_report\n",
    "from sklearn.metrics import plot_roc_curve\n",
    "from sklearn.metrics import roc_curve, roc_auc_score\n",
    "\n",
    "# ignore future warnings\n",
    "import warnings\n",
    "warnings.filterwarnings('ignore')"
   ]
  },
  {
   "cell_type": "markdown",
   "id": "bd4951d5",
   "metadata": {},
   "source": [
    "We will load the clean dataset and double check the information."
   ]
  },
  {
   "cell_type": "code",
   "execution_count": 2,
   "id": "bdd6f90b",
   "metadata": {},
   "outputs": [],
   "source": [
    "# Loading the data into a dataframe.\n",
    "lol_cleaned = pd.read_csv('data/lol_cleaned.csv').reset_index().drop(columns=['index', 'Unnamed: 0'])\n",
    "\n",
    "# Convert 'Date' column to datetime type.\n",
    "lol_cleaned['date'] = pd.to_datetime(lol_cleaned['date'])"
   ]
  },
  {
   "cell_type": "code",
   "execution_count": 3,
   "id": "69c05a44",
   "metadata": {
    "scrolled": true
   },
   "outputs": [
    {
     "data": {
      "text/html": [
       "<div>\n",
       "<style scoped>\n",
       "    .dataframe tbody tr th:only-of-type {\n",
       "        vertical-align: middle;\n",
       "    }\n",
       "\n",
       "    .dataframe tbody tr th {\n",
       "        vertical-align: top;\n",
       "    }\n",
       "\n",
       "    .dataframe thead th {\n",
       "        text-align: right;\n",
       "    }\n",
       "</style>\n",
       "<table border=\"1\" class=\"dataframe\">\n",
       "  <thead>\n",
       "    <tr style=\"text-align: right;\">\n",
       "      <th></th>\n",
       "      <th>gameid</th>\n",
       "      <th>date</th>\n",
       "      <th>side</th>\n",
       "      <th>team</th>\n",
       "      <th>gamelength</th>\n",
       "      <th>result</th>\n",
       "      <th>kills</th>\n",
       "      <th>deaths</th>\n",
       "      <th>firstblood</th>\n",
       "      <th>dragons</th>\n",
       "      <th>barons</th>\n",
       "      <th>towers</th>\n",
       "      <th>wcpm</th>\n",
       "      <th>controlwardsbought</th>\n",
       "      <th>totalgold</th>\n",
       "      <th>minionkills</th>\n",
       "      <th>cspm</th>\n",
       "    </tr>\n",
       "  </thead>\n",
       "  <tbody>\n",
       "    <tr>\n",
       "      <th>0</th>\n",
       "      <td>6909-9183</td>\n",
       "      <td>2021-01-09 09:22:04</td>\n",
       "      <td>Blue</td>\n",
       "      <td>Top Esports</td>\n",
       "      <td>2050</td>\n",
       "      <td>0</td>\n",
       "      <td>3</td>\n",
       "      <td>9</td>\n",
       "      <td>1.0</td>\n",
       "      <td>2.0</td>\n",
       "      <td>0.0</td>\n",
       "      <td>3.0</td>\n",
       "      <td>2.4293</td>\n",
       "      <td>40.0</td>\n",
       "      <td>54617</td>\n",
       "      <td>987.0</td>\n",
       "      <td>36.0000</td>\n",
       "    </tr>\n",
       "    <tr>\n",
       "      <th>1</th>\n",
       "      <td>6909-9183</td>\n",
       "      <td>2021-01-09 09:22:04</td>\n",
       "      <td>Red</td>\n",
       "      <td>Suning</td>\n",
       "      <td>2050</td>\n",
       "      <td>1</td>\n",
       "      <td>9</td>\n",
       "      <td>3</td>\n",
       "      <td>0.0</td>\n",
       "      <td>2.0</td>\n",
       "      <td>1.0</td>\n",
       "      <td>6.0</td>\n",
       "      <td>1.7854</td>\n",
       "      <td>46.0</td>\n",
       "      <td>60520</td>\n",
       "      <td>947.0</td>\n",
       "      <td>35.5610</td>\n",
       "    </tr>\n",
       "    <tr>\n",
       "      <th>2</th>\n",
       "      <td>6909-9184</td>\n",
       "      <td>2021-01-09 10:16:20</td>\n",
       "      <td>Blue</td>\n",
       "      <td>Top Esports</td>\n",
       "      <td>2241</td>\n",
       "      <td>0</td>\n",
       "      <td>16</td>\n",
       "      <td>27</td>\n",
       "      <td>0.0</td>\n",
       "      <td>3.0</td>\n",
       "      <td>2.0</td>\n",
       "      <td>6.0</td>\n",
       "      <td>1.9545</td>\n",
       "      <td>42.0</td>\n",
       "      <td>69692</td>\n",
       "      <td>957.0</td>\n",
       "      <td>33.2798</td>\n",
       "    </tr>\n",
       "    <tr>\n",
       "      <th>3</th>\n",
       "      <td>6909-9184</td>\n",
       "      <td>2021-01-09 10:16:20</td>\n",
       "      <td>Red</td>\n",
       "      <td>Suning</td>\n",
       "      <td>2241</td>\n",
       "      <td>1</td>\n",
       "      <td>27</td>\n",
       "      <td>17</td>\n",
       "      <td>1.0</td>\n",
       "      <td>2.0</td>\n",
       "      <td>0.0</td>\n",
       "      <td>7.0</td>\n",
       "      <td>1.4726</td>\n",
       "      <td>49.0</td>\n",
       "      <td>70269</td>\n",
       "      <td>939.0</td>\n",
       "      <td>31.8876</td>\n",
       "    </tr>\n",
       "    <tr>\n",
       "      <th>4</th>\n",
       "      <td>6910-9189</td>\n",
       "      <td>2021-01-09 11:30:25</td>\n",
       "      <td>Blue</td>\n",
       "      <td>Oh My God</td>\n",
       "      <td>1887</td>\n",
       "      <td>0</td>\n",
       "      <td>4</td>\n",
       "      <td>15</td>\n",
       "      <td>1.0</td>\n",
       "      <td>1.0</td>\n",
       "      <td>0.0</td>\n",
       "      <td>3.0</td>\n",
       "      <td>1.4944</td>\n",
       "      <td>32.0</td>\n",
       "      <td>51145</td>\n",
       "      <td>848.0</td>\n",
       "      <td>33.8951</td>\n",
       "    </tr>\n",
       "  </tbody>\n",
       "</table>\n",
       "</div>"
      ],
      "text/plain": [
       "      gameid                date  side         team  gamelength  result  \\\n",
       "0  6909-9183 2021-01-09 09:22:04  Blue  Top Esports        2050       0   \n",
       "1  6909-9183 2021-01-09 09:22:04   Red       Suning        2050       1   \n",
       "2  6909-9184 2021-01-09 10:16:20  Blue  Top Esports        2241       0   \n",
       "3  6909-9184 2021-01-09 10:16:20   Red       Suning        2241       1   \n",
       "4  6910-9189 2021-01-09 11:30:25  Blue    Oh My God        1887       0   \n",
       "\n",
       "   kills  deaths  firstblood  dragons  barons  towers    wcpm  \\\n",
       "0      3       9         1.0      2.0     0.0     3.0  2.4293   \n",
       "1      9       3         0.0      2.0     1.0     6.0  1.7854   \n",
       "2     16      27         0.0      3.0     2.0     6.0  1.9545   \n",
       "3     27      17         1.0      2.0     0.0     7.0  1.4726   \n",
       "4      4      15         1.0      1.0     0.0     3.0  1.4944   \n",
       "\n",
       "   controlwardsbought  totalgold  minionkills     cspm  \n",
       "0                40.0      54617        987.0  36.0000  \n",
       "1                46.0      60520        947.0  35.5610  \n",
       "2                42.0      69692        957.0  33.2798  \n",
       "3                49.0      70269        939.0  31.8876  \n",
       "4                32.0      51145        848.0  33.8951  "
      ]
     },
     "execution_count": 3,
     "metadata": {},
     "output_type": "execute_result"
    }
   ],
   "source": [
    "# check some rows from the dataset\n",
    "lol_cleaned.head()"
   ]
  },
  {
   "cell_type": "code",
   "execution_count": 4,
   "id": "7128c37e",
   "metadata": {
    "scrolled": false
   },
   "outputs": [
    {
     "data": {
      "text/plain": [
       "(21652, 17)"
      ]
     },
     "execution_count": 4,
     "metadata": {},
     "output_type": "execute_result"
    }
   ],
   "source": [
    "# dataset shape\n",
    "lol_cleaned.shape"
   ]
  },
  {
   "cell_type": "markdown",
   "id": "7090ea24",
   "metadata": {},
   "source": [
    "# Match Dataset\n",
    "\n",
    "We have a clean dataset, but we must fix the matches according to the `gameid`. Because of that, we will split the dataset in two: blue side and red side, and then join them by `gameid`."
   ]
  },
  {
   "cell_type": "code",
   "execution_count": 5,
   "id": "c3c6f866",
   "metadata": {
    "scrolled": false
   },
   "outputs": [
    {
     "name": "stdout",
     "output_type": "stream",
     "text": [
      "<class 'pandas.core.frame.DataFrame'>\n",
      "Index: 10826 entries, 6909-9183 to ESPORTSTMNT02/2151568\n",
      "Data columns (total 32 columns):\n",
      " #   Column                   Non-Null Count  Dtype         \n",
      "---  ------                   --------------  -----         \n",
      " 0   date_blue                10826 non-null  datetime64[ns]\n",
      " 1   side_blue                10826 non-null  object        \n",
      " 2   team_blue                10826 non-null  object        \n",
      " 3   gamelength_blue          10826 non-null  int64         \n",
      " 4   result_blue              10826 non-null  int64         \n",
      " 5   kills_blue               10826 non-null  int64         \n",
      " 6   deaths_blue              10826 non-null  int64         \n",
      " 7   firstblood_blue          10826 non-null  float64       \n",
      " 8   dragons_blue             10826 non-null  float64       \n",
      " 9   barons_blue              10826 non-null  float64       \n",
      " 10  towers_blue              10826 non-null  float64       \n",
      " 11  wcpm_blue                10826 non-null  float64       \n",
      " 12  controlwardsbought_blue  10826 non-null  float64       \n",
      " 13  totalgold_blue           10826 non-null  int64         \n",
      " 14  minionkills_blue         10826 non-null  float64       \n",
      " 15  cspm_blue                10826 non-null  float64       \n",
      " 16  date_red                 10826 non-null  datetime64[ns]\n",
      " 17  side_red                 10826 non-null  object        \n",
      " 18  team_red                 10826 non-null  object        \n",
      " 19  gamelength_red           10826 non-null  int64         \n",
      " 20  result_red               10826 non-null  int64         \n",
      " 21  kills_red                10826 non-null  int64         \n",
      " 22  deaths_red               10826 non-null  int64         \n",
      " 23  firstblood_red           10826 non-null  float64       \n",
      " 24  dragons_red              10826 non-null  float64       \n",
      " 25  barons_red               10826 non-null  float64       \n",
      " 26  towers_red               10826 non-null  float64       \n",
      " 27  wcpm_red                 10826 non-null  float64       \n",
      " 28  controlwardsbought_red   10826 non-null  float64       \n",
      " 29  totalgold_red            10826 non-null  int64         \n",
      " 30  minionkills_red          10826 non-null  float64       \n",
      " 31  cspm_red                 10826 non-null  float64       \n",
      "dtypes: datetime64[ns](2), float64(16), int64(10), object(4)\n",
      "memory usage: 3.0+ MB\n"
     ]
    }
   ],
   "source": [
    "# divide the clean dataset into red and blue side.\n",
    "blue_df = lol_cleaned[lol_cleaned['side']=='Blue'].set_index('gameid')\n",
    "red_df = lol_cleaned[lol_cleaned['side']=='Red'].set_index('gameid')\n",
    "\n",
    "# join the blue_df and red_df into matches_df by the index that is the gameid\n",
    "matches_df = blue_df.join(red_df, lsuffix='_blue', rsuffix='_red')\n",
    "matches_df.info()"
   ]
  },
  {
   "cell_type": "markdown",
   "id": "1467ad30",
   "metadata": {},
   "source": [
    "After joining the datasets we have some duplicate columns like `date_blue` and `date_red`, as well as some we don't need anymore, such as the side of the map. These will be removed."
   ]
  },
  {
   "cell_type": "code",
   "execution_count": 6,
   "id": "e4fcf4d9",
   "metadata": {
    "scrolled": true
   },
   "outputs": [
    {
     "data": {
      "text/html": [
       "<div>\n",
       "<style scoped>\n",
       "    .dataframe tbody tr th:only-of-type {\n",
       "        vertical-align: middle;\n",
       "    }\n",
       "\n",
       "    .dataframe tbody tr th {\n",
       "        vertical-align: top;\n",
       "    }\n",
       "\n",
       "    .dataframe thead th {\n",
       "        text-align: right;\n",
       "    }\n",
       "</style>\n",
       "<table border=\"1\" class=\"dataframe\">\n",
       "  <thead>\n",
       "    <tr style=\"text-align: right;\">\n",
       "      <th></th>\n",
       "      <th>team_blue</th>\n",
       "      <th>gamelength_blue</th>\n",
       "      <th>kills_blue</th>\n",
       "      <th>firstblood_blue</th>\n",
       "      <th>dragons_blue</th>\n",
       "      <th>barons_blue</th>\n",
       "      <th>towers_blue</th>\n",
       "      <th>wcpm_blue</th>\n",
       "      <th>controlwardsbought_blue</th>\n",
       "      <th>totalgold_blue</th>\n",
       "      <th>minionkills_blue</th>\n",
       "      <th>cspm_blue</th>\n",
       "      <th>team_red</th>\n",
       "      <th>gamelength_red</th>\n",
       "      <th>result_red</th>\n",
       "      <th>kills_red</th>\n",
       "      <th>firstblood_red</th>\n",
       "      <th>dragons_red</th>\n",
       "      <th>barons_red</th>\n",
       "      <th>towers_red</th>\n",
       "      <th>wcpm_red</th>\n",
       "      <th>controlwardsbought_red</th>\n",
       "      <th>totalgold_red</th>\n",
       "      <th>minionkills_red</th>\n",
       "      <th>cspm_red</th>\n",
       "    </tr>\n",
       "  </thead>\n",
       "  <tbody>\n",
       "    <tr>\n",
       "      <th>0</th>\n",
       "      <td>Top Esports</td>\n",
       "      <td>2050</td>\n",
       "      <td>3</td>\n",
       "      <td>1.0</td>\n",
       "      <td>2.0</td>\n",
       "      <td>0.0</td>\n",
       "      <td>3.0</td>\n",
       "      <td>2.4293</td>\n",
       "      <td>40.0</td>\n",
       "      <td>54617</td>\n",
       "      <td>987.0</td>\n",
       "      <td>36.0000</td>\n",
       "      <td>Suning</td>\n",
       "      <td>2050</td>\n",
       "      <td>1</td>\n",
       "      <td>9</td>\n",
       "      <td>0.0</td>\n",
       "      <td>2.0</td>\n",
       "      <td>1.0</td>\n",
       "      <td>6.0</td>\n",
       "      <td>1.7854</td>\n",
       "      <td>46.0</td>\n",
       "      <td>60520</td>\n",
       "      <td>947.0</td>\n",
       "      <td>35.5610</td>\n",
       "    </tr>\n",
       "    <tr>\n",
       "      <th>1</th>\n",
       "      <td>Top Esports</td>\n",
       "      <td>2241</td>\n",
       "      <td>16</td>\n",
       "      <td>0.0</td>\n",
       "      <td>3.0</td>\n",
       "      <td>2.0</td>\n",
       "      <td>6.0</td>\n",
       "      <td>1.9545</td>\n",
       "      <td>42.0</td>\n",
       "      <td>69692</td>\n",
       "      <td>957.0</td>\n",
       "      <td>33.2798</td>\n",
       "      <td>Suning</td>\n",
       "      <td>2241</td>\n",
       "      <td>1</td>\n",
       "      <td>27</td>\n",
       "      <td>1.0</td>\n",
       "      <td>2.0</td>\n",
       "      <td>0.0</td>\n",
       "      <td>7.0</td>\n",
       "      <td>1.4726</td>\n",
       "      <td>49.0</td>\n",
       "      <td>70269</td>\n",
       "      <td>939.0</td>\n",
       "      <td>31.8876</td>\n",
       "    </tr>\n",
       "    <tr>\n",
       "      <th>2</th>\n",
       "      <td>Oh My God</td>\n",
       "      <td>1887</td>\n",
       "      <td>4</td>\n",
       "      <td>1.0</td>\n",
       "      <td>1.0</td>\n",
       "      <td>0.0</td>\n",
       "      <td>3.0</td>\n",
       "      <td>1.4944</td>\n",
       "      <td>32.0</td>\n",
       "      <td>51145</td>\n",
       "      <td>848.0</td>\n",
       "      <td>33.8951</td>\n",
       "      <td>EDward Gaming</td>\n",
       "      <td>1887</td>\n",
       "      <td>1</td>\n",
       "      <td>15</td>\n",
       "      <td>0.0</td>\n",
       "      <td>4.0</td>\n",
       "      <td>1.0</td>\n",
       "      <td>9.0</td>\n",
       "      <td>1.8442</td>\n",
       "      <td>34.0</td>\n",
       "      <td>60738</td>\n",
       "      <td>910.0</td>\n",
       "      <td>36.4388</td>\n",
       "    </tr>\n",
       "    <tr>\n",
       "      <th>3</th>\n",
       "      <td>EDward Gaming</td>\n",
       "      <td>2010</td>\n",
       "      <td>8</td>\n",
       "      <td>0.0</td>\n",
       "      <td>1.0</td>\n",
       "      <td>0.0</td>\n",
       "      <td>2.0</td>\n",
       "      <td>1.5821</td>\n",
       "      <td>39.0</td>\n",
       "      <td>54258</td>\n",
       "      <td>891.0</td>\n",
       "      <td>33.0746</td>\n",
       "      <td>Oh My God</td>\n",
       "      <td>2010</td>\n",
       "      <td>1</td>\n",
       "      <td>18</td>\n",
       "      <td>1.0</td>\n",
       "      <td>4.0</td>\n",
       "      <td>1.0</td>\n",
       "      <td>11.0</td>\n",
       "      <td>1.2537</td>\n",
       "      <td>33.0</td>\n",
       "      <td>64618</td>\n",
       "      <td>915.0</td>\n",
       "      <td>34.2388</td>\n",
       "    </tr>\n",
       "    <tr>\n",
       "      <th>4</th>\n",
       "      <td>Oh My God</td>\n",
       "      <td>2159</td>\n",
       "      <td>8</td>\n",
       "      <td>1.0</td>\n",
       "      <td>3.0</td>\n",
       "      <td>0.0</td>\n",
       "      <td>3.0</td>\n",
       "      <td>1.2228</td>\n",
       "      <td>45.0</td>\n",
       "      <td>57889</td>\n",
       "      <td>892.0</td>\n",
       "      <td>32.0426</td>\n",
       "      <td>EDward Gaming</td>\n",
       "      <td>2159</td>\n",
       "      <td>1</td>\n",
       "      <td>16</td>\n",
       "      <td>0.0</td>\n",
       "      <td>3.0</td>\n",
       "      <td>1.0</td>\n",
       "      <td>9.0</td>\n",
       "      <td>1.7786</td>\n",
       "      <td>42.0</td>\n",
       "      <td>67747</td>\n",
       "      <td>985.0</td>\n",
       "      <td>34.4882</td>\n",
       "    </tr>\n",
       "  </tbody>\n",
       "</table>\n",
       "</div>"
      ],
      "text/plain": [
       "       team_blue  gamelength_blue  kills_blue  firstblood_blue  dragons_blue  \\\n",
       "0    Top Esports             2050           3              1.0           2.0   \n",
       "1    Top Esports             2241          16              0.0           3.0   \n",
       "2      Oh My God             1887           4              1.0           1.0   \n",
       "3  EDward Gaming             2010           8              0.0           1.0   \n",
       "4      Oh My God             2159           8              1.0           3.0   \n",
       "\n",
       "   barons_blue  towers_blue  wcpm_blue  controlwardsbought_blue  \\\n",
       "0          0.0          3.0     2.4293                     40.0   \n",
       "1          2.0          6.0     1.9545                     42.0   \n",
       "2          0.0          3.0     1.4944                     32.0   \n",
       "3          0.0          2.0     1.5821                     39.0   \n",
       "4          0.0          3.0     1.2228                     45.0   \n",
       "\n",
       "   totalgold_blue  minionkills_blue  cspm_blue       team_red  gamelength_red  \\\n",
       "0           54617             987.0    36.0000         Suning            2050   \n",
       "1           69692             957.0    33.2798         Suning            2241   \n",
       "2           51145             848.0    33.8951  EDward Gaming            1887   \n",
       "3           54258             891.0    33.0746      Oh My God            2010   \n",
       "4           57889             892.0    32.0426  EDward Gaming            2159   \n",
       "\n",
       "   result_red  kills_red  firstblood_red  dragons_red  barons_red  towers_red  \\\n",
       "0           1          9             0.0          2.0         1.0         6.0   \n",
       "1           1         27             1.0          2.0         0.0         7.0   \n",
       "2           1         15             0.0          4.0         1.0         9.0   \n",
       "3           1         18             1.0          4.0         1.0        11.0   \n",
       "4           1         16             0.0          3.0         1.0         9.0   \n",
       "\n",
       "   wcpm_red  controlwardsbought_red  totalgold_red  minionkills_red  cspm_red  \n",
       "0    1.7854                    46.0          60520            947.0   35.5610  \n",
       "1    1.4726                    49.0          70269            939.0   31.8876  \n",
       "2    1.8442                    34.0          60738            910.0   36.4388  \n",
       "3    1.2537                    33.0          64618            915.0   34.2388  \n",
       "4    1.7786                    42.0          67747            985.0   34.4882  "
      ]
     },
     "execution_count": 6,
     "metadata": {},
     "output_type": "execute_result"
    }
   ],
   "source": [
    "# drop unnecessary columns\n",
    "matches_df = matches_df.drop(columns=['date_blue', 'date_red', 'deaths_blue', 'deaths_red', 'result_blue', 'side_blue',\n",
    "                                      'side_red', 'gamelength_red', 'gamelength_blue'])\n",
    "# reset dataframe index\n",
    "matches_df.reset_index(inplace=True)\n",
    "\n",
    "# drop gameid column\n",
    "matches_df.drop(columns=['gameid'], inplace=True)\n",
    "\n",
    "# check some rows of the dataframe\n",
    "matches_df.head()"
   ]
  },
  {
   "cell_type": "markdown",
   "id": "ce28f5fb",
   "metadata": {},
   "source": [
    "Now that we have our match dataset, we can start building our model. We kept `red_result` in the EDA notebook, which is going to be our target and will give us a baseline of 47% for guessing the red team will win.\n",
    "\n",
    "# Modeling I\n",
    "\n",
    "Our first model is going to be a logistic regression. For classifying categorical data, it is is one of the most basic but effective tools we have at our disposal.\n",
    "\n",
    "In the first step, we separate our independent variable from our target that is the result for the red team: 1 if it is a win, 0 if it is a loss."
   ]
  },
  {
   "cell_type": "code",
   "execution_count": 9,
   "id": "3c4d8cd1",
   "metadata": {},
   "outputs": [],
   "source": [
    "# Separate the data into X and y variables\n",
    "# X is the data containing the independent variables.\n",
    "# y is the target.  The dependent variable.\n",
    "X = matches_df.drop(columns= ['result_red'])\n",
    "y = matches_df['result_red']"
   ]
  },
  {
   "cell_type": "markdown",
   "id": "6a1e2227",
   "metadata": {},
   "source": [
    "Next, we will encode the teams with dummy variables and concatenate them with our X data frame. Finally, we remove the `team_blue` and `team_red` columns."
   ]
  },
  {
   "cell_type": "code",
   "execution_count": 10,
   "id": "bbf5e41c",
   "metadata": {},
   "outputs": [],
   "source": [
    "# create dummies for team_blue and team_red\n",
    "team_blue_dummies = pd.get_dummies(X[['team_blue']]).drop(columns='team_blue_unknown team')\n",
    "X = pd.concat([X, team_blue_dummies], axis=1)\n",
    "\n",
    "team_red_dummies = pd.get_dummies(X[['team_red']]).drop(columns='team_red_unknown team')\n",
    "X = pd.concat([X, team_red_dummies], axis=1)\n",
    "\n",
    "# drop the columns that contains the team names\n",
    "X = X.drop(columns=['team_blue', 'team_red'])"
   ]
  },
  {
   "cell_type": "code",
   "execution_count": 11,
   "id": "0ee009c4",
   "metadata": {
    "scrolled": true
   },
   "outputs": [
    {
     "data": {
      "text/plain": [
       "((10826, 981), (10826,))"
      ]
     },
     "execution_count": 11,
     "metadata": {},
     "output_type": "execute_result"
    }
   ],
   "source": [
    "# Checking the shape of X\n",
    "X.shape, y.shape"
   ]
  },
  {
   "cell_type": "markdown",
   "id": "2604165d",
   "metadata": {},
   "source": [
    "Our X dataframe now contains the features of each game, and our y dataframe contains the game result for the red team. We will split both dataframes into train and test dataframes to build our model. "
   ]
  },
  {
   "cell_type": "code",
   "execution_count": 12,
   "id": "80416119",
   "metadata": {
    "scrolled": true
   },
   "outputs": [
    {
     "data": {
      "text/plain": [
       "((7578, 981), (3248, 981), (7578,), (3248,))"
      ]
     },
     "execution_count": 12,
     "metadata": {},
     "output_type": "execute_result"
    }
   ],
   "source": [
    "# split the data in train and test dataframes\n",
    "X_train, X_test, y_train, y_test = train_test_split(X, y, test_size=0.30, random_state=42, stratify=y)\n",
    "\n",
    "# sets shape\n",
    "X_train.shape, X_test.shape, y_train.shape, y_test.shape"
   ]
  },
  {
   "cell_type": "markdown",
   "id": "98e267ce",
   "metadata": {},
   "source": [
    "Even though our target is balanced, we still use the stratify parameter to maintain balance. The train set makes up 70% of the total dataset, while the test set makes up 30%. Our next step is to fit the logistic regression model. Our model will be optimized with GridSearchCV and a pipeline to avoid any mistakes in handling data.  "
   ]
  },
  {
   "cell_type": "code",
   "execution_count": 13,
   "id": "e1da9a49",
   "metadata": {},
   "outputs": [],
   "source": [
    "# estimators for the pipe\n",
    "estimators = [\n",
    "    ('normalise', StandardScaler()),\n",
    "    ('model',LogisticRegression)\n",
    "]\n",
    "\n",
    "pipe = Pipeline(estimators)"
   ]
  },
  {
   "cell_type": "markdown",
   "id": "67c79c26",
   "metadata": {},
   "source": [
    "We will optimize C: the inverse of regularization strength. By default, the Logistic Regression solver is lbfgs and it only supports L2-penalty. We will also set the GridSearchCV cv parameter to 5 to perform a 5-fold cross validation."
   ]
  },
  {
   "cell_type": "code",
   "execution_count": 23,
   "id": "724e9563",
   "metadata": {},
   "outputs": [
    {
     "name": "stdout",
     "output_type": "stream",
     "text": [
      "Fitting 5 folds for each of 5 candidates, totalling 25 fits\n",
      "[CV] END model=LogisticRegression(), model__C=0.01, normalise=StandardScaler(); total time=   0.2s\n",
      "[CV] END model=LogisticRegression(), model__C=0.01, normalise=StandardScaler(); total time=   0.3s\n",
      "[CV] END model=LogisticRegression(), model__C=0.01, normalise=StandardScaler(); total time=   0.3s\n",
      "[CV] END model=LogisticRegression(), model__C=0.01, normalise=StandardScaler(); total time=   0.3s\n",
      "[CV] END model=LogisticRegression(), model__C=0.01, normalise=StandardScaler(); total time=   0.3s\n",
      "[CV] END model=LogisticRegression(), model__C=0.1, normalise=StandardScaler(); total time=   0.4s\n",
      "[CV] END model=LogisticRegression(), model__C=0.1, normalise=StandardScaler(); total time=   0.4s\n",
      "[CV] END model=LogisticRegression(), model__C=0.1, normalise=StandardScaler(); total time=   0.4s\n",
      "[CV] END model=LogisticRegression(), model__C=0.1, normalise=StandardScaler(); total time=   0.3s\n",
      "[CV] END model=LogisticRegression(), model__C=0.1, normalise=StandardScaler(); total time=   0.4s\n",
      "[CV] END model=LogisticRegression(), model__C=1, normalise=StandardScaler(); total time=   0.6s\n",
      "[CV] END model=LogisticRegression(), model__C=1, normalise=StandardScaler(); total time=   0.6s\n",
      "[CV] END model=LogisticRegression(), model__C=1, normalise=StandardScaler(); total time=   0.8s\n",
      "[CV] END model=LogisticRegression(), model__C=1, normalise=StandardScaler(); total time=   0.8s\n",
      "[CV] END model=LogisticRegression(), model__C=1, normalise=StandardScaler(); total time=   0.8s\n",
      "[CV] END model=LogisticRegression(), model__C=10, normalise=StandardScaler(); total time=   0.8s\n",
      "[CV] END model=LogisticRegression(), model__C=10, normalise=StandardScaler(); total time=   0.8s\n",
      "[CV] END model=LogisticRegression(), model__C=10, normalise=StandardScaler(); total time=   0.8s\n",
      "[CV] END model=LogisticRegression(), model__C=10, normalise=StandardScaler(); total time=   0.8s\n",
      "[CV] END model=LogisticRegression(), model__C=10, normalise=StandardScaler(); total time=   0.8s\n",
      "[CV] END model=LogisticRegression(), model__C=100, normalise=StandardScaler(); total time=   0.8s\n",
      "[CV] END model=LogisticRegression(), model__C=100, normalise=StandardScaler(); total time=   0.8s\n",
      "[CV] END model=LogisticRegression(), model__C=100, normalise=StandardScaler(); total time=   0.8s\n",
      "[CV] END model=LogisticRegression(), model__C=100, normalise=StandardScaler(); total time=   0.8s\n",
      "[CV] END model=LogisticRegression(), model__C=100, normalise=StandardScaler(); total time=   0.8s\n"
     ]
    }
   ],
   "source": [
    "# create a pamater grid for 3 different models\n",
    "param_grid = [\n",
    "            {\n",
    "                'model':  [LogisticRegression()],\n",
    "                'normalise': [StandardScaler()],\n",
    "                'model__C': [0.01, 0.1, 1, 10, 100]\n",
    "            }\n",
    "] \n",
    "\n",
    "grid = GridSearchCV(pipe, param_grid, cv=5, verbose=2) \n",
    "\n",
    "fittedgrid = grid.fit(X_train, y_train)"
   ]
  },
  {
   "cell_type": "code",
   "execution_count": 24,
   "id": "aad4a4ac",
   "metadata": {},
   "outputs": [
    {
     "data": {
      "text/plain": [
       "Pipeline(steps=[('normalise', StandardScaler()),\n",
       "                ('model', LogisticRegression(C=1))])"
      ]
     },
     "execution_count": 24,
     "metadata": {},
     "output_type": "execute_result"
    }
   ],
   "source": [
    "# best estimator\n",
    "fittedgrid.best_estimator_"
   ]
  },
  {
   "cell_type": "markdown",
   "id": "96ebc628",
   "metadata": {},
   "source": [
    "GridSearchCV had 5 candidates, 5 values for C. We fitted each candidate five times, for a total of 25 fits using five-cross validation. We found that C=1 is the best hyperparameters for our model."
   ]
  },
  {
   "cell_type": "code",
   "execution_count": 16,
   "id": "f491e8d1",
   "metadata": {
    "scrolled": true
   },
   "outputs": [
    {
     "data": {
      "text/plain": [
       "array([0.97994261, 0.98099828, 0.98284577])"
      ]
     },
     "execution_count": 16,
     "metadata": {},
     "output_type": "execute_result"
    }
   ],
   "source": [
    "# score means for eac one of the test\n",
    "fittedgrid.cv_results_['mean_test_score']"
   ]
  },
  {
   "cell_type": "markdown",
   "id": "faf591ab",
   "metadata": {},
   "source": [
    "We can see from the above that the highest Mean Validation score was obtained from a total of 25 fits with C=1. Now we will fit to the test set."
   ]
  },
  {
   "cell_type": "code",
   "execution_count": 17,
   "id": "a2c9e299",
   "metadata": {},
   "outputs": [
    {
     "data": {
      "text/plain": [
       "0.9836822660098522"
      ]
     },
     "execution_count": 17,
     "metadata": {},
     "output_type": "execute_result"
    }
   ],
   "source": [
    "# fit to the test set\n",
    "fittedgrid.score(X_test, y_test)"
   ]
  },
  {
   "cell_type": "markdown",
   "id": "c98fd816",
   "metadata": {},
   "source": [
    "Due to the number of features that are used to describe matches, we got a very high score in our test set. A model like this is only applicable to matches that are already over, but it cannot be used to predict future games. In the next notebook, we will develop features that will help us predict a future game.\n",
    "\n",
    "However, even if this model cannot help us to predict future games, it still has some applications. This model could also be used by esport commentators to provide audience members with information such as probabilities for each team during the game. In this case, we can feed information into the model that has already passed to calculate the red team's chances of winning.\n",
    "\n",
    "Using Pipelines and Grid Search, we can combine multiple transforms and estimators, and automate the selection of hyperparameters and the combination of steps to apply to each model. On the other hand, depending on the size of the data, it could be very computationally expensive and time-consuming."
   ]
  },
  {
   "cell_type": "code",
   "execution_count": 18,
   "id": "d95338dd",
   "metadata": {
    "scrolled": true
   },
   "outputs": [
    {
     "data": {
      "image/png": "[encoded data removed]",
      "text/plain": [
       "<Figure size 432x288 with 2 Axes>"
      ]
     },
     "metadata": {
      "needs_background": "light"
     },
     "output_type": "display_data"
    }
   ],
   "source": [
    "# plot confusion matrix\n",
    "plot_confusion_matrix(fittedgrid, X_test, y_test);"
   ]
  },
  {
   "cell_type": "markdown",
   "id": "ac65bcbf",
   "metadata": {},
   "source": [
    "### Based on our confusion matrix, we got the following four possible outcomes:\n",
    "1. **True Positive (TP)**: Correctly predict that red team won. A total of 1508 points.\n",
    "2. **False Positive (FP)**: Incorrectly predict that red team won. A total of 31 points.\n",
    "3. **True Negative (TN)**: Correctly predict that red team lost. A total of 1687 points. \n",
    "4. **False Negative (FN)**: Incorrectly predict that red team lost. A total of 22 points.\n",
    "\n",
    "It is interesting to note that despite having all the information to make our model, some False Positives and False Negatives still occurred. There are two ways to win a LoL match, either by destroying the Nexus of the other team or by forfeiting. As a result, we have some matches where even if one team performs better than the other during the whole game, it can still lose if it fails to achieve the final goal. These are called throwaway matches.\n",
    "\n",
    "In the context of which class we prioritize to detect, we can select different scores to evaluate our model. For instance, if it is of greater interest to us to identify bad scores, we should reduce false positives and evaluate our model using precision scores. We can import the precision and recall scores from sklearn.metrics."
   ]
  },
  {
   "cell_type": "code",
   "execution_count": 19,
   "id": "d08d0b99",
   "metadata": {
    "scrolled": true
   },
   "outputs": [
    {
     "name": "stdout",
     "output_type": "stream",
     "text": [
      "              precision    recall  f1-score   support\n",
      "\n",
      "           0       0.99      0.98      0.98      1718\n",
      "           1       0.98      0.99      0.98      1530\n",
      "\n",
      "    accuracy                           0.98      3248\n",
      "   macro avg       0.98      0.98      0.98      3248\n",
      "weighted avg       0.98      0.98      0.98      3248\n",
      "\n"
     ]
    }
   ],
   "source": [
    "# print classification report\n",
    "y_pred = fittedgrid.predict(X_test)\n",
    "print(classification_report(y_test, y_pred))"
   ]
  },
  {
   "cell_type": "markdown",
   "id": "bafc0ad6",
   "metadata": {},
   "source": [
    "Depending on our goal, we can choose one of these scores to make a better assessment of our model. Each score is different for our best model. Accuracy will be our top priority when predicting future games."
   ]
  },
  {
   "cell_type": "code",
   "execution_count": 29,
   "id": "3251350b",
   "metadata": {},
   "outputs": [
    {
     "data": {
      "image/png": "[encoded data removed]",
      "text/plain": [
       "<Figure size 432x288 with 1 Axes>"
      ]
     },
     "metadata": {
      "needs_background": "light"
     },
     "output_type": "display_data"
    }
   ],
   "source": [
    "# plot ROC Curve\n",
    "plot_roc_curve(fittedgrid, X_test, y_test)\n",
    "plt.title('ROC Curve for LoL Game Prediction')\n",
    "plt.show()"
   ]
  },
  {
   "cell_type": "code",
   "execution_count": 28,
   "id": "afc71414",
   "metadata": {
    "scrolled": true
   },
   "outputs": [
    {
     "data": {
      "text/plain": [
       "0.9837883387736158"
      ]
     },
     "execution_count": 28,
     "metadata": {},
     "output_type": "execute_result"
    }
   ],
   "source": [
    "# AUC score\n",
    "roc_auc = roc_auc_score(y_test, y_pred)\n",
    "roc_auc"
   ]
  },
  {
   "cell_type": "markdown",
   "id": "a9e6e03e",
   "metadata": {},
   "source": [
    "According to the ROC curve and the AUC score, this model has a true positive rate close to 1. Very few outcomes were misclassified."
   ]
  },
  {
   "cell_type": "markdown",
   "id": "787f7694",
   "metadata": {},
   "source": [
    "# Conclusion\n",
    "\n",
    "In this notebook, we created a new dataframe in which a single data point contained information for both teams in the same game. Based on this dataframe, we developed a logistic regression model, one of the simplest classification models but effective for our goal. \n",
    "\n",
    "Our model achieved a very high score of almost 100%, which indicates it misclassified very few outcomes. The model is useful when we know the features of the current match. However, it cannot predict the winner of future matches because we need to know something about the actual match. During the game, esport commentators could use this model to provide audience members with information such as probabilities for each team. We can feed information into the model that has already passed to calculate the chances of the red team winning.\n",
    "\n",
    "Next, we will perform feature engineering to create some features from past games that will help us predict future games."
   ]
  }
 ],
 "metadata": {
  "kernelspec": {
   "display_name": "Python 3",
   "language": "python",
   "name": "python3"
  },
  "language_info": {
   "codemirror_mode": {
    "name": "ipython",
    "version": 3
   },
   "file_extension": ".py",
   "mimetype": "text/x-python",
   "name": "python",
   "nbconvert_exporter": "python",
   "pygments_lexer": "ipython3",
   "version": "3.8.8"
  }
 },
 "nbformat": 4,
 "nbformat_minor": 5
}
